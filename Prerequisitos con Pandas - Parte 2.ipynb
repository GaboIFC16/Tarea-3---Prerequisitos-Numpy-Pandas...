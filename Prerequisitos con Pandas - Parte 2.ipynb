{
 "cells": [
  {
   "cell_type": "markdown",
   "metadata": {},
   "source": [
    "#  Prerequisitos con Pandas - Parte 2\n",
    "\n",
    "En esta nota utilizará un dataframe de pandas para realizar estadísticas.  Trabajaremos con [data de Tesla del año 2010 al 2020](https://www.kaggle.com/timoboz/tesla-stock-data-from-2010-to-2020) descargada de Kaggle.\n",
    "\n",
    "La información se encuentra en la carpeta Prerequisitos/data y es llamada TSLA.csv."
   ]
  },
  {
   "cell_type": "markdown",
   "metadata": {},
   "source": [
    "Comenzaremos leyendo el DataFrame para ver como luce el la información."
   ]
  },
  {
   "cell_type": "code",
   "execution_count": 3,
   "metadata": {
    "scrolled": false
   },
   "outputs": [
    {
     "name": "stdout",
     "output_type": "stream",
     "text": [
      "C:\\Users\\Gabriel\\Desktop\\ArtificialIntelligence-master\\Prerequisitos\n"
     ]
    }
   ],
   "source": [
    "# importamos las librerías\n",
    "import pandas as pd\n",
    "import os\n",
    "\n",
    "# observamos en que directorio nos encontramos\n",
    "print(os.getcwd())"
   ]
  },
  {
   "cell_type": "code",
   "execution_count": 4,
   "metadata": {},
   "outputs": [
    {
     "data": {
      "text/html": [
       "<div>\n",
       "<style scoped>\n",
       "    .dataframe tbody tr th:only-of-type {\n",
       "        vertical-align: middle;\n",
       "    }\n",
       "\n",
       "    .dataframe tbody tr th {\n",
       "        vertical-align: top;\n",
       "    }\n",
       "\n",
       "    .dataframe thead th {\n",
       "        text-align: right;\n",
       "    }\n",
       "</style>\n",
       "<table border=\"1\" class=\"dataframe\">\n",
       "  <thead>\n",
       "    <tr style=\"text-align: right;\">\n",
       "      <th></th>\n",
       "      <th>Date</th>\n",
       "      <th>Open</th>\n",
       "      <th>High</th>\n",
       "      <th>Low</th>\n",
       "      <th>Close</th>\n",
       "      <th>Adj Close</th>\n",
       "      <th>Volume</th>\n",
       "    </tr>\n",
       "  </thead>\n",
       "  <tbody>\n",
       "    <tr>\n",
       "      <th>0</th>\n",
       "      <td>2010-06-29</td>\n",
       "      <td>19.000000</td>\n",
       "      <td>25.000000</td>\n",
       "      <td>17.540001</td>\n",
       "      <td>23.889999</td>\n",
       "      <td>23.889999</td>\n",
       "      <td>18766300</td>\n",
       "    </tr>\n",
       "    <tr>\n",
       "      <th>1</th>\n",
       "      <td>2010-06-30</td>\n",
       "      <td>25.790001</td>\n",
       "      <td>30.420000</td>\n",
       "      <td>23.299999</td>\n",
       "      <td>23.830000</td>\n",
       "      <td>23.830000</td>\n",
       "      <td>17187100</td>\n",
       "    </tr>\n",
       "    <tr>\n",
       "      <th>2</th>\n",
       "      <td>2010-07-01</td>\n",
       "      <td>25.000000</td>\n",
       "      <td>25.920000</td>\n",
       "      <td>20.270000</td>\n",
       "      <td>21.959999</td>\n",
       "      <td>21.959999</td>\n",
       "      <td>8218800</td>\n",
       "    </tr>\n",
       "    <tr>\n",
       "      <th>3</th>\n",
       "      <td>2010-07-02</td>\n",
       "      <td>23.000000</td>\n",
       "      <td>23.100000</td>\n",
       "      <td>18.709999</td>\n",
       "      <td>19.200001</td>\n",
       "      <td>19.200001</td>\n",
       "      <td>5139800</td>\n",
       "    </tr>\n",
       "    <tr>\n",
       "      <th>4</th>\n",
       "      <td>2010-07-06</td>\n",
       "      <td>20.000000</td>\n",
       "      <td>20.000000</td>\n",
       "      <td>15.830000</td>\n",
       "      <td>16.110001</td>\n",
       "      <td>16.110001</td>\n",
       "      <td>6866900</td>\n",
       "    </tr>\n",
       "    <tr>\n",
       "      <th>5</th>\n",
       "      <td>2010-07-07</td>\n",
       "      <td>16.400000</td>\n",
       "      <td>16.629999</td>\n",
       "      <td>14.980000</td>\n",
       "      <td>15.800000</td>\n",
       "      <td>15.800000</td>\n",
       "      <td>6921700</td>\n",
       "    </tr>\n",
       "    <tr>\n",
       "      <th>6</th>\n",
       "      <td>2010-07-08</td>\n",
       "      <td>16.139999</td>\n",
       "      <td>17.520000</td>\n",
       "      <td>15.570000</td>\n",
       "      <td>17.459999</td>\n",
       "      <td>17.459999</td>\n",
       "      <td>7711400</td>\n",
       "    </tr>\n",
       "    <tr>\n",
       "      <th>7</th>\n",
       "      <td>2010-07-09</td>\n",
       "      <td>17.580000</td>\n",
       "      <td>17.900000</td>\n",
       "      <td>16.549999</td>\n",
       "      <td>17.400000</td>\n",
       "      <td>17.400000</td>\n",
       "      <td>4050600</td>\n",
       "    </tr>\n",
       "    <tr>\n",
       "      <th>8</th>\n",
       "      <td>2010-07-12</td>\n",
       "      <td>17.950001</td>\n",
       "      <td>18.070000</td>\n",
       "      <td>17.000000</td>\n",
       "      <td>17.049999</td>\n",
       "      <td>17.049999</td>\n",
       "      <td>2202500</td>\n",
       "    </tr>\n",
       "    <tr>\n",
       "      <th>9</th>\n",
       "      <td>2010-07-13</td>\n",
       "      <td>17.389999</td>\n",
       "      <td>18.639999</td>\n",
       "      <td>16.900000</td>\n",
       "      <td>18.139999</td>\n",
       "      <td>18.139999</td>\n",
       "      <td>2680100</td>\n",
       "    </tr>\n",
       "  </tbody>\n",
       "</table>\n",
       "</div>"
      ],
      "text/plain": [
       "         Date       Open       High        Low      Close  Adj Close    Volume\n",
       "0  2010-06-29  19.000000  25.000000  17.540001  23.889999  23.889999  18766300\n",
       "1  2010-06-30  25.790001  30.420000  23.299999  23.830000  23.830000  17187100\n",
       "2  2010-07-01  25.000000  25.920000  20.270000  21.959999  21.959999   8218800\n",
       "3  2010-07-02  23.000000  23.100000  18.709999  19.200001  19.200001   5139800\n",
       "4  2010-07-06  20.000000  20.000000  15.830000  16.110001  16.110001   6866900\n",
       "5  2010-07-07  16.400000  16.629999  14.980000  15.800000  15.800000   6921700\n",
       "6  2010-07-08  16.139999  17.520000  15.570000  17.459999  17.459999   7711400\n",
       "7  2010-07-09  17.580000  17.900000  16.549999  17.400000  17.400000   4050600\n",
       "8  2010-07-12  17.950001  18.070000  17.000000  17.049999  17.049999   2202500\n",
       "9  2010-07-13  17.389999  18.639999  16.900000  18.139999  18.139999   2680100"
      ]
     },
     "execution_count": 4,
     "metadata": {},
     "output_type": "execute_result"
    }
   ],
   "source": [
    "# leemos el csv a un dataframe\n",
    "path = os.path.join('data', 'TSLA.csv')\n",
    "df = pd.read_csv(path)\n",
    "\n",
    "# leemos las primeras 10 lineas\n",
    "df.head(10)"
   ]
  },
  {
   "cell_type": "markdown",
   "metadata": {},
   "source": [
    "El dataframe esta etiquedato automaticamente por índices en cada fila y las colmnas por medio de sus nombres propios en el csv.\n",
    "\n",
    "### Su labor\n",
    "\n",
    "Ahora cargará el mismo dataframe pero solo utilizando *Date* y *Adj Close* o *Close* de los datasets de Nvidia y Adobe que se encuentran en la misma carpeta.\n",
    "\n",
    "En adicion, utilizaremos *Date* como índice de filas y finalmente tendremos que reconocer el dataframe las fechas actuales como Año/Mes/Día y no como strings.  Para cada stock ud. debe completar estas actividades utilizando pd.read_csv().\n",
    "\n",
    "Algunas de las posibles ayudas:\n",
    "- Utilizar **index_col** para utilizar las columnas como índices, por ejemplo, index_col= ['High']\n",
    "- Utilizar **parse_dates = True** para convertir las fechas en Año/Mes/día\n",
    "- Utilziar **usecols** para seleccionar cuales columnas ud quiere agregar al DataFrame.  Por ejemplo usecols= ['Low', 'Open']\n",
    "\n",
    "Llene el código inferior..."
   ]
  },
  {
   "cell_type": "code",
   "execution_count": 5,
   "metadata": {},
   "outputs": [],
   "source": [
    "import pandas as pd\n",
    "import os\n",
    "# cargar el dataset de Nvidia en un dataframe\n",
    "ds_path = os.path.join('data', 'NVDA.csv')\n",
    "nvidia_df = pd.read_csv(ds_path,index_col = ['date'], parse_dates = True, usecols = ['date','close']) \n",
    "\n",
    "# cargar el dataset de Adobe en un dataframe\n",
    "ds_path = os.path.join('data', 'ADBE.csv')\n",
    "adobe_df = pd.read_csv(ds_path,index_col = ['date'], parse_dates = True, usecols = ['date','close'])"
   ]
  },
  {
   "cell_type": "code",
   "execution_count": 6,
   "metadata": {},
   "outputs": [
    {
     "data": {
      "text/html": [
       "<div>\n",
       "<style scoped>\n",
       "    .dataframe tbody tr th:only-of-type {\n",
       "        vertical-align: middle;\n",
       "    }\n",
       "\n",
       "    .dataframe tbody tr th {\n",
       "        vertical-align: top;\n",
       "    }\n",
       "\n",
       "    .dataframe thead th {\n",
       "        text-align: right;\n",
       "    }\n",
       "</style>\n",
       "<table border=\"1\" class=\"dataframe\">\n",
       "  <thead>\n",
       "    <tr style=\"text-align: right;\">\n",
       "      <th></th>\n",
       "      <th>close</th>\n",
       "    </tr>\n",
       "    <tr>\n",
       "      <th>date</th>\n",
       "      <th></th>\n",
       "    </tr>\n",
       "  </thead>\n",
       "  <tbody>\n",
       "    <tr>\n",
       "      <th>2013-02-08</th>\n",
       "      <td>12.37</td>\n",
       "    </tr>\n",
       "    <tr>\n",
       "      <th>2013-02-11</th>\n",
       "      <td>12.51</td>\n",
       "    </tr>\n",
       "    <tr>\n",
       "      <th>2013-02-12</th>\n",
       "      <td>12.43</td>\n",
       "    </tr>\n",
       "    <tr>\n",
       "      <th>2013-02-13</th>\n",
       "      <td>12.37</td>\n",
       "    </tr>\n",
       "    <tr>\n",
       "      <th>2013-02-14</th>\n",
       "      <td>12.73</td>\n",
       "    </tr>\n",
       "  </tbody>\n",
       "</table>\n",
       "</div>"
      ],
      "text/plain": [
       "            close\n",
       "date             \n",
       "2013-02-08  12.37\n",
       "2013-02-11  12.51\n",
       "2013-02-12  12.43\n",
       "2013-02-13  12.37\n",
       "2013-02-14  12.73"
      ]
     },
     "execution_count": 6,
     "metadata": {},
     "output_type": "execute_result"
    }
   ],
   "source": [
    "nvidia_df.head()"
   ]
  },
  {
   "cell_type": "markdown",
   "metadata": {},
   "source": [
    "<img src=\"imgs/pandas_parte2_1.PNG\" align=\"left\" />"
   ]
  },
  {
   "cell_type": "markdown",
   "metadata": {},
   "source": [
    "Ahora ud unirá los DataFrames de arriba para crear solamente un DataFrame entero que contenga *close* para todos los stocks.  Para esto vamos a crear un dataframe vació que tenga los índices de filas de calendario mínimas y máximas de las acciones.  \n",
    "\n",
    "Utilizaremos pd.date_range(), esta función crea los días calendario ordenadamente y luego crearemos el dataframe utilizando estos índices como filas."
   ]
  },
  {
   "cell_type": "code",
   "execution_count": 7,
   "metadata": {
    "scrolled": true
   },
   "outputs": [
    {
     "data": {
      "text/plain": [
       "DatetimeIndex(['2013-02-08', '2013-02-09', '2013-02-10', '2013-02-11',\n",
       "               '2013-02-12', '2013-02-13', '2013-02-14', '2013-02-15',\n",
       "               '2013-02-16', '2013-02-17',\n",
       "               ...\n",
       "               '2018-01-29', '2018-01-30', '2018-01-31', '2018-02-01',\n",
       "               '2018-02-02', '2018-02-03', '2018-02-04', '2018-02-05',\n",
       "               '2018-02-06', '2018-02-07'],\n",
       "              dtype='datetime64[ns]', length=1826, freq='D')"
      ]
     },
     "execution_count": 7,
     "metadata": {},
     "output_type": "execute_result"
    }
   ],
   "source": [
    "#  Creamos el calendario de fechas\n",
    "min_date = nvidia_df.index.min()\n",
    "max_date = nvidia_df.index.max()\n",
    "dates = pd.date_range(min_date, max_date)\n",
    "dates"
   ]
  },
  {
   "cell_type": "markdown",
   "metadata": {},
   "source": [
    "Respuesta esperada:\n",
    "```\n",
    "DatetimeIndex(['2013-02-08', '2013-02-09', '2013-02-10', '2013-02-11',\n",
    "               '2013-02-12', '2013-02-13', '2013-02-14', '2013-02-15',\n",
    "               '2013-02-16', '2013-02-17',\n",
    "               ...\n",
    "               '2018-01-29', '2018-01-30', '2018-01-31', '2018-02-01',\n",
    "               '2018-02-02', '2018-02-03', '2018-02-04', '2018-02-05',\n",
    "               '2018-02-06', '2018-02-07'],\n",
    "              dtype='datetime64[ns]', length=1826, freq='D')\n",
    "```"
   ]
  },
  {
   "cell_type": "code",
   "execution_count": 8,
   "metadata": {
    "scrolled": true
   },
   "outputs": [
    {
     "data": {
      "text/html": [
       "<div>\n",
       "<style scoped>\n",
       "    .dataframe tbody tr th:only-of-type {\n",
       "        vertical-align: middle;\n",
       "    }\n",
       "\n",
       "    .dataframe tbody tr th {\n",
       "        vertical-align: top;\n",
       "    }\n",
       "\n",
       "    .dataframe thead th {\n",
       "        text-align: right;\n",
       "    }\n",
       "</style>\n",
       "<table border=\"1\" class=\"dataframe\">\n",
       "  <thead>\n",
       "    <tr style=\"text-align: right;\">\n",
       "      <th></th>\n",
       "    </tr>\n",
       "  </thead>\n",
       "  <tbody>\n",
       "    <tr>\n",
       "      <th>2013-02-08</th>\n",
       "    </tr>\n",
       "    <tr>\n",
       "      <th>2013-02-09</th>\n",
       "    </tr>\n",
       "    <tr>\n",
       "      <th>2013-02-10</th>\n",
       "    </tr>\n",
       "    <tr>\n",
       "      <th>2013-02-11</th>\n",
       "    </tr>\n",
       "    <tr>\n",
       "      <th>2013-02-12</th>\n",
       "    </tr>\n",
       "  </tbody>\n",
       "</table>\n",
       "</div>"
      ],
      "text/plain": [
       "Empty DataFrame\n",
       "Columns: []\n",
       "Index: [2013-02-08 00:00:00, 2013-02-09 00:00:00, 2013-02-10 00:00:00, 2013-02-11 00:00:00, 2013-02-12 00:00:00]"
      ]
     },
     "execution_count": 8,
     "metadata": {},
     "output_type": "execute_result"
    }
   ],
   "source": [
    "stocks = pd.DataFrame(index=dates)\n",
    "stocks.head()"
   ]
  },
  {
   "cell_type": "markdown",
   "metadata": {},
   "source": [
    "Respuesta esperada:\n",
    "\n",
    "<img src=\"imgs/pandas_parte2_2.PNG\" align=\"left\" />"
   ]
  },
  {
   "cell_type": "markdown",
   "metadata": {},
   "source": [
    "Ahora unirá los dataframes individiales de nvidia y adobe en el dataframe *stocks*.  Sin embargo, recuerde que antes de unificarlo debe cambiar el nombre de columnas de los dataframes, favor cambiarlos a *close_nvidia* y *close_adobe* respectivamente.  Esto se debe debido a que deben ser llaves únicas, sino dará problemas al unificarse (todas tienen el mismo nombre *close*).  \n",
    "\n",
    "Ud puede hacer esto con la función pd.DataFrame.rename()."
   ]
  },
  {
   "cell_type": "code",
   "execution_count": 9,
   "metadata": {},
   "outputs": [
    {
     "data": {
      "text/html": [
       "<div>\n",
       "<style scoped>\n",
       "    .dataframe tbody tr th:only-of-type {\n",
       "        vertical-align: middle;\n",
       "    }\n",
       "\n",
       "    .dataframe tbody tr th {\n",
       "        vertical-align: top;\n",
       "    }\n",
       "\n",
       "    .dataframe thead th {\n",
       "        text-align: right;\n",
       "    }\n",
       "</style>\n",
       "<table border=\"1\" class=\"dataframe\">\n",
       "  <thead>\n",
       "    <tr style=\"text-align: right;\">\n",
       "      <th></th>\n",
       "      <th>close_adobe</th>\n",
       "    </tr>\n",
       "    <tr>\n",
       "      <th>date</th>\n",
       "      <th></th>\n",
       "    </tr>\n",
       "  </thead>\n",
       "  <tbody>\n",
       "    <tr>\n",
       "      <th>2013-02-08</th>\n",
       "      <td>39.12</td>\n",
       "    </tr>\n",
       "    <tr>\n",
       "      <th>2013-02-11</th>\n",
       "      <td>38.64</td>\n",
       "    </tr>\n",
       "    <tr>\n",
       "      <th>2013-02-12</th>\n",
       "      <td>38.89</td>\n",
       "    </tr>\n",
       "    <tr>\n",
       "      <th>2013-02-13</th>\n",
       "      <td>38.81</td>\n",
       "    </tr>\n",
       "    <tr>\n",
       "      <th>2013-02-14</th>\n",
       "      <td>38.61</td>\n",
       "    </tr>\n",
       "    <tr>\n",
       "      <th>...</th>\n",
       "      <td>...</td>\n",
       "    </tr>\n",
       "    <tr>\n",
       "      <th>2018-02-01</th>\n",
       "      <td>199.38</td>\n",
       "    </tr>\n",
       "    <tr>\n",
       "      <th>2018-02-02</th>\n",
       "      <td>195.64</td>\n",
       "    </tr>\n",
       "    <tr>\n",
       "      <th>2018-02-05</th>\n",
       "      <td>190.27</td>\n",
       "    </tr>\n",
       "    <tr>\n",
       "      <th>2018-02-06</th>\n",
       "      <td>194.47</td>\n",
       "    </tr>\n",
       "    <tr>\n",
       "      <th>2018-02-07</th>\n",
       "      <td>192.34</td>\n",
       "    </tr>\n",
       "  </tbody>\n",
       "</table>\n",
       "<p>1259 rows × 1 columns</p>\n",
       "</div>"
      ],
      "text/plain": [
       "            close_adobe\n",
       "date                   \n",
       "2013-02-08        39.12\n",
       "2013-02-11        38.64\n",
       "2013-02-12        38.89\n",
       "2013-02-13        38.81\n",
       "2013-02-14        38.61\n",
       "...                 ...\n",
       "2018-02-01       199.38\n",
       "2018-02-02       195.64\n",
       "2018-02-05       190.27\n",
       "2018-02-06       194.47\n",
       "2018-02-07       192.34\n",
       "\n",
       "[1259 rows x 1 columns]"
      ]
     },
     "execution_count": 9,
     "metadata": {},
     "output_type": "execute_result"
    }
   ],
   "source": [
    "\n",
    "# Cambiar el nombre en close del dataframe de nvidia 'close_nvidia'\n",
    "nvidia_df = nvidia_df.rename(columns={'close':'close_nvidia'})\n",
    "nvidia_df.sort_index(inplace=None)\n",
    "# Cambiar el nombre en close del dataframe de adobe a 'close_adobe'\n",
    "adobe_df = adobe_df.rename(columns={'close':'close_adobe'})\n",
    "adobe_df.sort_index(inplace=None)"
   ]
  },
  {
   "cell_type": "markdown",
   "metadata": {},
   "source": [
    "Puede verificar que realizó bien la operación si imprime las primeras líneas de algun dataframe"
   ]
  },
  {
   "cell_type": "code",
   "execution_count": 10,
   "metadata": {
    "scrolled": false
   },
   "outputs": [
    {
     "data": {
      "text/html": [
       "<div>\n",
       "<style scoped>\n",
       "    .dataframe tbody tr th:only-of-type {\n",
       "        vertical-align: middle;\n",
       "    }\n",
       "\n",
       "    .dataframe tbody tr th {\n",
       "        vertical-align: top;\n",
       "    }\n",
       "\n",
       "    .dataframe thead th {\n",
       "        text-align: right;\n",
       "    }\n",
       "</style>\n",
       "<table border=\"1\" class=\"dataframe\">\n",
       "  <thead>\n",
       "    <tr style=\"text-align: right;\">\n",
       "      <th></th>\n",
       "      <th>close_adobe</th>\n",
       "    </tr>\n",
       "    <tr>\n",
       "      <th>date</th>\n",
       "      <th></th>\n",
       "    </tr>\n",
       "  </thead>\n",
       "  <tbody>\n",
       "    <tr>\n",
       "      <th>2013-02-08</th>\n",
       "      <td>39.12</td>\n",
       "    </tr>\n",
       "    <tr>\n",
       "      <th>2013-02-11</th>\n",
       "      <td>38.64</td>\n",
       "    </tr>\n",
       "    <tr>\n",
       "      <th>2013-02-12</th>\n",
       "      <td>38.89</td>\n",
       "    </tr>\n",
       "    <tr>\n",
       "      <th>2013-02-13</th>\n",
       "      <td>38.81</td>\n",
       "    </tr>\n",
       "    <tr>\n",
       "      <th>2013-02-14</th>\n",
       "      <td>38.61</td>\n",
       "    </tr>\n",
       "  </tbody>\n",
       "</table>\n",
       "</div>"
      ],
      "text/plain": [
       "            close_adobe\n",
       "date                   \n",
       "2013-02-08        39.12\n",
       "2013-02-11        38.64\n",
       "2013-02-12        38.89\n",
       "2013-02-13        38.81\n",
       "2013-02-14        38.61"
      ]
     },
     "execution_count": 10,
     "metadata": {},
     "output_type": "execute_result"
    }
   ],
   "source": [
    "# Desplegamos para ver si operó bien lo que realizamos\n",
    "adobe_df.head()"
   ]
  },
  {
   "cell_type": "markdown",
   "metadata": {},
   "source": [
    "Respuesta esperada:\n",
    "\n",
    "<img src=\"imgs/pandas_parte2_3.PNG\" align=\"left\" />"
   ]
  },
  {
   "cell_type": "markdown",
   "metadata": {},
   "source": [
    "Ahora que tiene los datasets ordenados y cambiados, podemos añadir todo al dataframe de stocks.  Para esto utilizamos DataFrame.join().  Lo que realiza dataframe1.join(dataframe2) es que unirá el dataframe1 con el dataframe2.\n",
    "\n",
    "Llene los códigos inferiores para realizar los cambios."
   ]
  },
  {
   "cell_type": "code",
   "execution_count": 11,
   "metadata": {},
   "outputs": [],
   "source": [
    "stocks = stocks.join(nvidia_df)\n",
    "stocks = stocks.join(adobe_df)"
   ]
  },
  {
   "cell_type": "markdown",
   "metadata": {},
   "source": [
    "Ahora podemos verificar si hemos hecho correctamente el cambio desplegando el dataframe de stocks"
   ]
  },
  {
   "cell_type": "code",
   "execution_count": 12,
   "metadata": {
    "scrolled": true
   },
   "outputs": [
    {
     "data": {
      "text/html": [
       "<div>\n",
       "<style scoped>\n",
       "    .dataframe tbody tr th:only-of-type {\n",
       "        vertical-align: middle;\n",
       "    }\n",
       "\n",
       "    .dataframe tbody tr th {\n",
       "        vertical-align: top;\n",
       "    }\n",
       "\n",
       "    .dataframe thead th {\n",
       "        text-align: right;\n",
       "    }\n",
       "</style>\n",
       "<table border=\"1\" class=\"dataframe\">\n",
       "  <thead>\n",
       "    <tr style=\"text-align: right;\">\n",
       "      <th></th>\n",
       "      <th>close_nvidia</th>\n",
       "      <th>close_adobe</th>\n",
       "    </tr>\n",
       "  </thead>\n",
       "  <tbody>\n",
       "    <tr>\n",
       "      <th>2013-02-08</th>\n",
       "      <td>12.37</td>\n",
       "      <td>39.12</td>\n",
       "    </tr>\n",
       "    <tr>\n",
       "      <th>2013-02-09</th>\n",
       "      <td>NaN</td>\n",
       "      <td>NaN</td>\n",
       "    </tr>\n",
       "    <tr>\n",
       "      <th>2013-02-10</th>\n",
       "      <td>NaN</td>\n",
       "      <td>NaN</td>\n",
       "    </tr>\n",
       "    <tr>\n",
       "      <th>2013-02-11</th>\n",
       "      <td>12.51</td>\n",
       "      <td>38.64</td>\n",
       "    </tr>\n",
       "    <tr>\n",
       "      <th>2013-02-12</th>\n",
       "      <td>12.43</td>\n",
       "      <td>38.89</td>\n",
       "    </tr>\n",
       "  </tbody>\n",
       "</table>\n",
       "</div>"
      ],
      "text/plain": [
       "            close_nvidia  close_adobe\n",
       "2013-02-08         12.37        39.12\n",
       "2013-02-09           NaN          NaN\n",
       "2013-02-10           NaN          NaN\n",
       "2013-02-11         12.51        38.64\n",
       "2013-02-12         12.43        38.89"
      ]
     },
     "execution_count": 12,
     "metadata": {},
     "output_type": "execute_result"
    }
   ],
   "source": [
    "stocks.head()"
   ]
  },
  {
   "cell_type": "markdown",
   "metadata": {},
   "source": [
    "Respuesta esperada:\n",
    "\n",
    "<img src=\"imgs/pandas_parte2_4.PNG\" align=\"left\" />"
   ]
  },
  {
   "cell_type": "markdown",
   "metadata": {},
   "source": [
    "### Análsis del DataFrame\n",
    "\n",
    "Ahora procedemos a la parte analítica del dataframe.  Primero vamos a verificar si no tenemos ningnos valores *NaN*.  Llene el espacio inferior con lo que se recomienda realizar"
   ]
  },
  {
   "cell_type": "code",
   "execution_count": 13,
   "metadata": {},
   "outputs": [
    {
     "data": {
      "text/plain": [
       "1134"
      ]
     },
     "execution_count": 13,
     "metadata": {},
     "output_type": "execute_result"
    }
   ],
   "source": [
    "# Verifique si existen valores Nan en el dataframe de stocks\n",
    "stocks.isnull().sum().sum()"
   ]
  },
  {
   "cell_type": "markdown",
   "metadata": {},
   "source": [
    "Respuesta esperada:\n",
    "\n",
    "1134"
   ]
  },
  {
   "cell_type": "code",
   "execution_count": null,
   "metadata": {},
   "outputs": [],
   "source": [
    "# Remueva estos 1134 valores\n",
    "stocks.dropna(axis = 0, inplace= True)\n",
    "print()"
   ]
  },
  {
   "cell_type": "code",
   "execution_count": 14,
   "metadata": {
    "scrolled": true
   },
   "outputs": [
    {
     "data": {
      "text/plain": [
       "1134"
      ]
     },
     "execution_count": 14,
     "metadata": {},
     "output_type": "execute_result"
    }
   ],
   "source": [
    "# Valide nuevamente el resultado de su eliminación\n",
    "stocks.isnull().sum().sum()"
   ]
  },
  {
   "cell_type": "markdown",
   "metadata": {},
   "source": [
    "Respuesta esperada:\n",
    "\n",
    "0"
   ]
  },
  {
   "cell_type": "markdown",
   "metadata": {},
   "source": [
    "Ahora que está limpio el dataset podemos realizar algunas estadísticas básicas.  Calcular:\n",
    "- el promedio movil \n",
    "  - dataframe.rolling().mean() tiene un argumento en rolling... dataframe.rolling(N).mean() calcula para la muestra de días deseada\n",
    "    - calcular entonces el promedio movil para 10 meses\n",
    "- la mediana del precio de mercado por dataframe.mean()\n",
    "- la desviación estándar\n",
    "- la correlación de los stocks"
   ]
  },
  {
   "cell_type": "code",
   "execution_count": 15,
   "metadata": {
    "scrolled": false
   },
   "outputs": [
    {
     "data": {
      "text/html": [
       "<div>\n",
       "<style scoped>\n",
       "    .dataframe tbody tr th:only-of-type {\n",
       "        vertical-align: middle;\n",
       "    }\n",
       "\n",
       "    .dataframe tbody tr th {\n",
       "        vertical-align: top;\n",
       "    }\n",
       "\n",
       "    .dataframe thead th {\n",
       "        text-align: right;\n",
       "    }\n",
       "</style>\n",
       "<table border=\"1\" class=\"dataframe\">\n",
       "  <thead>\n",
       "    <tr style=\"text-align: right;\">\n",
       "      <th></th>\n",
       "      <th>close_nvidia</th>\n",
       "      <th>close_adobe</th>\n",
       "    </tr>\n",
       "  </thead>\n",
       "  <tbody>\n",
       "    <tr>\n",
       "      <th>2013-02-08</th>\n",
       "      <td>NaN</td>\n",
       "      <td>NaN</td>\n",
       "    </tr>\n",
       "    <tr>\n",
       "      <th>2013-02-09</th>\n",
       "      <td>NaN</td>\n",
       "      <td>NaN</td>\n",
       "    </tr>\n",
       "    <tr>\n",
       "      <th>2013-02-10</th>\n",
       "      <td>NaN</td>\n",
       "      <td>NaN</td>\n",
       "    </tr>\n",
       "    <tr>\n",
       "      <th>2013-02-11</th>\n",
       "      <td>NaN</td>\n",
       "      <td>NaN</td>\n",
       "    </tr>\n",
       "    <tr>\n",
       "      <th>2013-02-12</th>\n",
       "      <td>NaN</td>\n",
       "      <td>NaN</td>\n",
       "    </tr>\n",
       "    <tr>\n",
       "      <th>...</th>\n",
       "      <td>...</td>\n",
       "      <td>...</td>\n",
       "    </tr>\n",
       "    <tr>\n",
       "      <th>2018-02-03</th>\n",
       "      <td>NaN</td>\n",
       "      <td>NaN</td>\n",
       "    </tr>\n",
       "    <tr>\n",
       "      <th>2018-02-04</th>\n",
       "      <td>NaN</td>\n",
       "      <td>NaN</td>\n",
       "    </tr>\n",
       "    <tr>\n",
       "      <th>2018-02-05</th>\n",
       "      <td>NaN</td>\n",
       "      <td>NaN</td>\n",
       "    </tr>\n",
       "    <tr>\n",
       "      <th>2018-02-06</th>\n",
       "      <td>NaN</td>\n",
       "      <td>NaN</td>\n",
       "    </tr>\n",
       "    <tr>\n",
       "      <th>2018-02-07</th>\n",
       "      <td>NaN</td>\n",
       "      <td>NaN</td>\n",
       "    </tr>\n",
       "  </tbody>\n",
       "</table>\n",
       "<p>1826 rows × 2 columns</p>\n",
       "</div>"
      ],
      "text/plain": [
       "            close_nvidia  close_adobe\n",
       "2013-02-08           NaN          NaN\n",
       "2013-02-09           NaN          NaN\n",
       "2013-02-10           NaN          NaN\n",
       "2013-02-11           NaN          NaN\n",
       "2013-02-12           NaN          NaN\n",
       "...                  ...          ...\n",
       "2018-02-03           NaN          NaN\n",
       "2018-02-04           NaN          NaN\n",
       "2018-02-05           NaN          NaN\n",
       "2018-02-06           NaN          NaN\n",
       "2018-02-07           NaN          NaN\n",
       "\n",
       "[1826 rows x 2 columns]"
      ]
     },
     "execution_count": 15,
     "metadata": {},
     "output_type": "execute_result"
    }
   ],
   "source": [
    "# calcular el promedio móvil para cada 10 meses\n",
    "moving_avg = stocks.rolling(10).mean() \n",
    "moving_avg"
   ]
  },
  {
   "cell_type": "markdown",
   "metadata": {},
   "source": [
    "<img src=\"imgs/pandas_parte2_5.PNG\" align=\"left\" />"
   ]
  },
  {
   "cell_type": "code",
   "execution_count": 16,
   "metadata": {
    "scrolled": true
   },
   "outputs": [
    {
     "data": {
      "text/plain": [
       "close_nvidia    56.369368\n",
       "close_adobe     90.458156\n",
       "dtype: float64"
      ]
     },
     "execution_count": 16,
     "metadata": {},
     "output_type": "execute_result"
    }
   ],
   "source": [
    "# calcular la media\n",
    "stocks.mean()"
   ]
  },
  {
   "cell_type": "markdown",
   "metadata": {},
   "source": [
    "Respuesta esperada:\n",
    "    \n",
    "```\n",
    "close_nvidia    56.369368\n",
    "close_adobe     90.458156\n",
    "dtype: float64\n",
    "```"
   ]
  },
  {
   "cell_type": "code",
   "execution_count": 17,
   "metadata": {},
   "outputs": [
    {
     "data": {
      "text/plain": [
       "close_nvidia    59.624642\n",
       "close_adobe     36.997773\n",
       "dtype: float64"
      ]
     },
     "execution_count": 17,
     "metadata": {},
     "output_type": "execute_result"
    }
   ],
   "source": [
    "\n",
    "# calcular la desviación estándar\n",
    "stocks.std()\n"
   ]
  },
  {
   "cell_type": "markdown",
   "metadata": {},
   "source": [
    "Respuesta esperada:\n",
    "\n",
    "```\n",
    "close_nvidia    59.624642\n",
    "close_adobe     36.997773\n",
    "dtype: float64\n",
    "```"
   ]
  },
  {
   "cell_type": "code",
   "execution_count": 18,
   "metadata": {
    "scrolled": false
   },
   "outputs": [
    {
     "data": {
      "text/html": [
       "<div>\n",
       "<style scoped>\n",
       "    .dataframe tbody tr th:only-of-type {\n",
       "        vertical-align: middle;\n",
       "    }\n",
       "\n",
       "    .dataframe tbody tr th {\n",
       "        vertical-align: top;\n",
       "    }\n",
       "\n",
       "    .dataframe thead th {\n",
       "        text-align: right;\n",
       "    }\n",
       "</style>\n",
       "<table border=\"1\" class=\"dataframe\">\n",
       "  <thead>\n",
       "    <tr style=\"text-align: right;\">\n",
       "      <th></th>\n",
       "      <th>close_nvidia</th>\n",
       "      <th>close_adobe</th>\n",
       "    </tr>\n",
       "  </thead>\n",
       "  <tbody>\n",
       "    <tr>\n",
       "      <th>close_nvidia</th>\n",
       "      <td>1.000000</td>\n",
       "      <td>0.950835</td>\n",
       "    </tr>\n",
       "    <tr>\n",
       "      <th>close_adobe</th>\n",
       "      <td>0.950835</td>\n",
       "      <td>1.000000</td>\n",
       "    </tr>\n",
       "  </tbody>\n",
       "</table>\n",
       "</div>"
      ],
      "text/plain": [
       "              close_nvidia  close_adobe\n",
       "close_nvidia      1.000000     0.950835\n",
       "close_adobe       0.950835     1.000000"
      ]
     },
     "execution_count": 18,
     "metadata": {},
     "output_type": "execute_result"
    }
   ],
   "source": [
    "\n",
    "# calcular la correlación de datos\n",
    "stocks.corr()\n"
   ]
  },
  {
   "cell_type": "markdown",
   "metadata": {},
   "source": [
    "Respuesta esperada:\n",
    "\n",
    "\n",
    "<img src=\"imgs/pandas_parte2_6.PNG\" align=\"left\" />"
   ]
  },
  {
   "cell_type": "markdown",
   "metadata": {},
   "source": [
    "Todo esta bien, pero como vemos, los primeros 10 datos del dataframe tienen valores nulos, esto se debe a que el promedio movil se calcula contra un período atrás y como el primer período de 10 datos no existe, nos dá valores nulos.\n",
    "\n",
    "Podemos entonces visualziar el dataframe en un gráfico.  Debajo se muestra el código para solo ejecutar y ver visualmente los stock de cada uno."
   ]
  },
  {
   "cell_type": "code",
   "execution_count": 21,
   "metadata": {
    "scrolled": true
   },
   "outputs": [
    {
     "data": {
      "image/png": "[encoded data removed]",
      "text/plain": [
       "<Figure size 432x288 with 1 Axes>"
      ]
     },
     "metadata": {
      "needs_background": "light"
     },
     "output_type": "display_data"
    }
   ],
   "source": [
    "# permite graficar en el notebook\n",
    "%matplotlib inline\n",
    "\n",
    "# importamos matplotlib\n",
    "import matplotlib.pyplot as plt\n",
    "\n",
    "# graficar nvidia y adobe\n",
    "plt.plot(stocks['close_nvidia'])\n",
    "\n",
    "# ahora graficamos la media y el precio de stock\n",
    "plt.plot(moving_avg)\n",
    "plt.legend(['Stock Price', 'Moving Average'])\n",
    "plt.show()"
   ]
  },
  {
   "cell_type": "markdown",
   "metadata": {},
   "source": [
    "Respuesta esperada:\n",
    "\n",
    "<img src=\"imgs/pandas_parte2_7.PNG\" align=\"left\" />"
   ]
  }
 ],
 "metadata": {
  "kernelspec": {
   "display_name": "Python 3",
   "language": "python",
   "name": "python3"
  },
  "language_info": {
   "codemirror_mode": {
    "name": "ipython",
    "version": 3
   },
   "file_extension": ".py",
   "mimetype": "text/x-python",
   "name": "python",
   "nbconvert_exporter": "python",
   "pygments_lexer": "ipython3",
   "version": "3.8.3"
  }
 },
 "nbformat": 4,
 "nbformat_minor": 4
}
